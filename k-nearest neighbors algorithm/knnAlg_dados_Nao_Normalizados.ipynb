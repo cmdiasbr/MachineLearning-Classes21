{
  "nbformat": 4,
  "nbformat_minor": 0,
  "metadata": {
    "colab": {
      "name": "knnAlg_dados_Nao_Normalizados.ipynb",
      "provenance": [],
      "collapsed_sections": [],
      "toc_visible": true
    },
    "kernelspec": {
      "name": "python3",
      "display_name": "Python 3"
    }
  },
  "cells": [
    {
      "cell_type": "markdown",
      "metadata": {
        "id": "-sUBsGE-O4T4"
      },
      "source": [
        "# **Atividade prática: Algoritmo k-Nearest Neighbors (KNN)**\n",
        "### Aluna: Camila Alves Dias, número: 320636\n",
        "\n",
        "3.   Refaça o item 2, agora para o conjunto de dados no arquivo\n",
        "Dados_NaoNormalizados.\n",
        "\n",
        "\n",
        "\n"
      ]
    },
    {
      "cell_type": "markdown",
      "metadata": {
        "id": "IVWhHBnunnTb"
      },
      "source": [
        "### Fazer os imports das bibliotecas"
      ]
    },
    {
      "cell_type": "code",
      "metadata": {
        "id": "AQEsOYCDE21q"
      },
      "source": [
        "import pandas as pd # biblioteca de análise de dados\n",
        "\n",
        "from csv import reader # ler arquivos csv\n",
        "#from sys import exit \n",
        "\n",
        "from math import sqrt # retorna a raiz quadrada de qualquer número\n",
        "\n",
        "import operator # exporta um conjunto de funções dos operadores de Python\n",
        "\n",
        "from operator import itemgetter # constrói um chamável que assume um objeto iterável \n",
        "#(por exemplo, lista, tupla, conjunto) como entrada e busca o enésimo elemento dele.\n",
        "\n",
        "import numpy as np # biblioteca que realiza cálculos em arrays multidimensionais"
      ],
      "execution_count": 1,
      "outputs": []
    },
    {
      "cell_type": "markdown",
      "metadata": {
        "id": "8QYWko_un4Z7"
      },
      "source": [
        "### Abaixo encontra-se a classe com duas funções de medidas: medida Euclidiana e Manhattan\n",
        "\n",
        "Descrição do cálculo da distância euclidiana:\n",
        "sqrt(sum i to N (x1_i – x2_i)^2)\n",
        "\n",
        "entrada = vetor1, vetor2. São os vetores de entrada para os quais a distância deve ser calculada.\n",
        "\n",
        "saída = distância euclidiana calculada de dois vetores.\n",
        "\n",
        "Descrição do cálculo da distância Manhattan:\n",
        "\n",
        "Entrada = Pega 2 vetores e retorna a distância de manhattan. A ideia é parecida com a função da distância Euclidiana. \n",
        "\n",
        "A saída será a distância Manhattan de dois vetores de entrada\n"
      ]
    },
    {
      "cell_type": "code",
      "metadata": {
        "id": "kIqZG5vICdEh"
      },
      "source": [
        "class dist_metric:\n",
        "# métodos para calcular métricas de distância \n",
        "  def __init__(self):\n",
        "    pass\n",
        "  \n",
        "  # Função para calcular a distância euclidiana\n",
        "  def dist_euclidiana(self, vector1, vector2):\n",
        "    self.vectorA, self.vectorB = vector1, vector2\n",
        "    distance = 0.0\n",
        "    for i in range(len(self.vectorA)-1):\n",
        "      distance += sqrt(((self.vectorA[i]) - (self.vectorB[i]))** 2)\n",
        "     #distance += (self.vectorA[i] - self.vectorB[i])**2\n",
        "    return distance\n",
        "  \n",
        "  # Função para calcular a distância de Manhattan\n",
        "  def dist_manhattan(self, vector1, vector2):\n",
        "    self.vectorA, self.vectorB = vector1, vector2\n",
        "    return sum(abs(np.array(self.vectorA) - np.array(self.vectorB)))"
      ],
      "execution_count": 4,
      "outputs": []
    },
    {
      "cell_type": "markdown",
      "metadata": {
        "id": "-SmUAOvqqAXQ"
      },
      "source": [
        "### Algoritmo K-NearestNeighbors \n",
        "*   entrada k: total de vizinhos\n",
        "*   dist_metric: tipo de distancia metrica que sera utilizada. \n",
        "\n",
        "A função getNeighbors seleciona o subconjunto com a menor distância, qual é calculada na função euclidean_dist da classe dist_metric.\n",
        "\n",
        "Todo o conjunto de dados de treinamento é armazenado. \n",
        "\n",
        "Quando uma predição é necessária, os registros *k-most similar* a um novo registro do conjunto de dados de treinamento são localizados. A partir desses vizinhos, uma previsão resumida é feita.\n",
        "\n",
        "O dataset presente possui 2 classes binárias (cancer benigno e cancer maligno). \n",
        "\n",
        "Dentro do dataset pode haver um ponto misterioso cuja classe é necessária prever. \n",
        "\n",
        "Para descobrir a qual classe esse ponto pertence, é necessário comparar a distância (euclidiana ou manhattan) do ponto misterioso com as amostras de treinamento e selecionar os K vizinhos mais próximos.\n",
        "\n",
        "O k indica o número de amostras de treinamento próximo a serem consideradas ao prever um ponto de teste não rotulado.\n",
        "\n",
        "O label de classe do novo ponto é determinado pelo voto da maioria de seus k vizinhos mais próximos. O novo ponto será atribuído à turma com maior número de votos.\n",
        "\n",
        "\n"
      ]
    },
    {
      "cell_type": "code",
      "metadata": {
        "id": "-ufqUNQjoRpZ"
      },
      "source": [
        "class kNNClassifier:\n",
        "  #def __init__(self,k = 3, dist_metric = 'euclidiana'):\n",
        "    #pass\n",
        "  \n",
        "  def fit(self, xTrain, yTrain):\n",
        "    # treina o modelo kNN com data x\n",
        "    assert len(xTrain) == len(yTrain)\n",
        "    self.trainData = xTrain # treina os dados com as coordenadas \n",
        "    self.trainLabels = yTrain # labels/rotulos do dataset de treino\n",
        "\n",
        "  def getNeighbors(self, testRow):\n",
        "    # input testRow: dados de teste com coordenadas\n",
        "    calcDM = dist_metric()\n",
        "    distances = []\n",
        "    for i, trainRow in enumerate(self.trainData):\n",
        "      \n",
        "      # utiliza a distancia euclidiana\n",
        "      if self.dist_metric == 'euclidiana': \n",
        "        distances.append([trainRow, calcDM.dist_euclidiana(testRow, trainRow), self.trainLabels[i]])\n",
        "      \n",
        "      # utiliza a distancia manhattan\n",
        "      elif self.dist_metric == 'manhattan': \n",
        "        distances.append([trainRow, calcDM.dist_manhattan(testRow, trainRow), self.trainLabels[i]])\n",
        "      \n",
        "      distances.sort(key=operator.itemgetter(1))\n",
        "    neighbors = []\n",
        "    for index in range(0, self.k):\n",
        "      neighbors.append(distances[index])\n",
        "    return neighbors\n",
        "  \n",
        "  def predict(self, xTest, k, dist_metric):\n",
        "  # aqui o modelo kNN é aplicado no dataset de teste\n",
        "    self.testData = xTest # dados de teste com coordenadas\n",
        "    self.k = k # numero de vizinhos\n",
        "    self.dist_metric = dist_metric # funcao de distancia\n",
        "    predictions = []\n",
        "    for i, testCase in enumerate(self.testData):\n",
        "      neighbors = self.getNeighbors(testCase)\n",
        "      output= [row[-1] for row in neighbors]\n",
        "      prediction = max(set(output), key=output.count)\n",
        "      predictions.append(prediction)\n",
        "    return predictions # saída: rótulo previsto/predicted label "
      ],
      "execution_count": 5,
      "outputs": []
    },
    {
      "cell_type": "markdown",
      "metadata": {
        "id": "PhiedTu2OJzT"
      },
      "source": [
        "### A seção abaixo possui a função de avalição acurácia"
      ]
    },
    {
      "cell_type": "code",
      "metadata": {
        "id": "cC2x47nqroIz"
      },
      "source": [
        "def accuracy_calc(actual, predictions):\n",
        "  # calcula a acuracia das previsões\n",
        "  assert len(actual) == len(predictions)\n",
        "  correct = 0\n",
        "  for i in range(len(actual)):\n",
        "    if actual[i] == predictions[i]:\n",
        "      correct += 1\n",
        "  print(\"Acuracia do modelo kNN: \", correct / float(len(actual)) * 100.0)"
      ],
      "execution_count": 6,
      "outputs": []
    },
    {
      "cell_type": "markdown",
      "metadata": {
        "id": "m0mClBViwt02"
      },
      "source": [
        "### abaixo é feito o processamento do arquivo lido"
      ]
    },
    {
      "cell_type": "code",
      "metadata": {
        "id": "HGAj3mS6sCD-"
      },
      "source": [
        "def readData(fileName):\n",
        "  data = []\n",
        "  labels = []\n",
        "  with open(fileName, \"r\") as file:\n",
        "    lines = file.readlines() \n",
        "  for line in lines:\n",
        "    splitline = line.strip().split(',')\n",
        "    data.append(splitline[:-1]) # vetor com os dados do dataframe\n",
        "    labels.append(splitline[-1]) # vetor com os labels/classes\n",
        "  return data, labels"
      ],
      "execution_count": 7,
      "outputs": []
    },
    {
      "cell_type": "markdown",
      "metadata": {
        "id": "3biWlTi_sNni"
      },
      "source": [
        "## Abaixo é solicitado quais serão os datasets de treino e teste \n",
        "### Nessa segunda parte, os dados não estão normalizados como no dataset utilizado anteriormente. "
      ]
    },
    {
      "cell_type": "code",
      "metadata": {
        "colab": {
          "base_uri": "https://localhost:8080/"
        },
        "id": "c5FhrPgitRFW",
        "outputId": "81f8348c-3498-4e1c-bf23-2cd766a70420"
      },
      "source": [
        "# carrega o conjunto de dados de treinamento \n",
        "training_file = input('Digite o nome do arquivo de dados de treinamento : ')\n",
        "trainFile = str(training_file)\n",
        "\n",
        "trainData, trainLabel = readData(trainFile)\n",
        "trainData = np.array(trainData, dtype=np.float32)\n",
        "\n",
        "trainFeatures = []\n",
        "for row in trainData:\n",
        "  index = row[0:]\n",
        "  temp = [(item) for item in index]\n",
        "  trainFeatures.append(temp)\n",
        "trainLabels = [(label) for label in trainLabel]\n",
        "\n",
        "print ('Train set: ' + repr(len(trainData)))"
      ],
      "execution_count": 8,
      "outputs": [
        {
          "output_type": "stream",
          "text": [
            "Digite o nome do arquivo de dados de treinamento : cancer_train.csv\n",
            "Train set: 456\n"
          ],
          "name": "stdout"
        }
      ]
    },
    {
      "cell_type": "code",
      "metadata": {
        "colab": {
          "base_uri": "https://localhost:8080/"
        },
        "id": "MtEL_T1iu0Ho",
        "outputId": "5a8ef090-117e-4b99-e431-3b47025c5e5a"
      },
      "source": [
        "# carrega o conjunto de dados de teste \n",
        "test_file = input('Digite o nome do arquivo de dados de teste : ')\n",
        "testFile = str(test_file)\n",
        "\n",
        "testData, testLabel = readData(testFile)\n",
        "testData = np.array(testData, dtype=np.float32)\n",
        "\n",
        "testFeatures = []\n",
        "for row in testData:\n",
        "  index = row[0:]\n",
        "  temp = [(item) for item in index]\n",
        "  testFeatures.append(temp)\n",
        "testLabels = [(label) for label in testLabel]\n",
        "print ('Test set: ' + repr(len(testData)))"
      ],
      "execution_count": 9,
      "outputs": [
        {
          "output_type": "stream",
          "text": [
            "Digite o nome do arquivo de dados de teste : cancer_test.csv\n",
            "Test set: 115\n"
          ],
          "name": "stdout"
        }
      ]
    },
    {
      "cell_type": "markdown",
      "metadata": {
        "id": "d2Kv4IRuNfJU"
      },
      "source": [
        "### Na seção abaixo é chamado a classe kNNClassifier, qual contém as funções de distancias "
      ]
    },
    {
      "cell_type": "code",
      "metadata": {
        "colab": {
          "base_uri": "https://localhost:8080/"
        },
        "id": "jj3k19mAvXJX",
        "outputId": "b8da9e68-6410-4d5f-9fb1-aaefb69342d2"
      },
      "source": [
        "knn = kNNClassifier() # chama a função kNN\n",
        "knn.fit(trainFeatures, trainLabels) # treina o modelo com a base de treino\n",
        "print(trainLabels) # exibe o vetor de targets"
      ],
      "execution_count": 10,
      "outputs": [
        {
          "output_type": "stream",
          "text": [
            "['target', '0', '0', '0', '0', '1', '0', '0', '1', '0', '0', '0', '0', '1', '1', '0', '0', '0', '0', '0', '1', '0', '0', '0', '0', '1', '0', '0', '1', '1', '1', '1', '1', '1', '0', '1', '1', '1', '0', '0', '0', '0', '1', '1', '0', '0', '0', '0', '1', '1', '1', '1', '1', '1', '0', '0', '0', '1', '1', '0', '1', '1', '0', '0', '1', '0', '0', '1', '0', '0', '0', '0', '1', '1', '0', '1', '1', '0', '1', '0', '0', '1', '1', '0', '1', '1', '0', '0', '1', '1', '0', '1', '0', '0', '0', '0', '0', '0', '0', '1', '0', '1', '1', '0', '1', '0', '0', '1', '1', '1', '0', '0', '0', '1', '0', '1', '1', '0', '1', '0', '0', '1', '0', '1', '0', '0', '0', '1', '0', '1', '0', '0', '0', '1', '1', '0', '0', '1', '0', '0', '0', '0', '1', '0', '0', '1', '0', '1', '0', '0', '1', '0', '0', '0', '0', '0', '0', '0', '1', '0', '0', '0', '0', '0', '1', '1', '1', '0', '1', '1', '1', '0', '1', '0', '0', '0', '0', '1', '0', '0', '0', '0', '0', '0', '0', '0', '0', '1', '0', '0', '0', '1', '0', '0', '1', '0', '0', '0', '0', '0', '0', '0', '0', '1', '0', '0', '1', '0', '0', '0', '0', '0', '1', '1', '0', '1', '0', '0', '1', '1', '0', '0', '1', '0', '1', '0', '1', '0', '0', '0', '0', '0', '1', '0', '1', '0', '1', '1', '1', '0', '1', '0', '0', '0', '0', '0', '1', '0', '0', '1', '0', '0', '0', '1', '1', '0', '0', '1', '0', '1', '1', '0', '0', '0', '1', '1', '0', '0', '0', '1', '0', '1', '1', '0', '1', '1', '0', '1', '0', '0', '0', '0', '0', '0', '0', '1', '0', '0', '1', '0', '1', '0', '1', '1', '1', '1', '0', '0', '0', '1', '1', '0', '1', '1', '0', '0', '1', '1', '1', '0', '0', '0', '0', '1', '0', '0', '0', '0', '1', '0', '0', '1', '0', '0', '0', '1', '0', '0', '0', '0', '1', '0', '0', '0', '1', '1', '0', '0', '0', '0', '0', '1', '0', '1', '0', '1', '0', '0', '0', '1', '1', '0', '1', '0', '0', '1', '0', '0', '0', '0', '1', '0', '0', '0', '0', '0', '0', '1', '1', '1', '1', '0', '0', '0', '1', '0', '0', '0', '0', '0', '1', '0', '1', '0', '0', '0', '1', '0', '0', '1', '1', '0', '1', '0', '1', '1', '0', '0', '1', '1', '1', '0', '0', '0', '0', '0', '0', '1', '0', '0', '1', '0', '0', '1', '1', '0', '1', '1', '1', '1', '0', '0', '1', '0', '0', '0', '0', '1', '0', '0', '0', '0', '0', '0', '1', '1', '0', '0', '1', '0', '0', '1', '1', '0', '0', '1', '1', '0', '0', '1', '0', '0', '1', '0', '0', '0']\n"
          ],
          "name": "stdout"
        }
      ]
    },
    {
      "cell_type": "markdown",
      "metadata": {
        "id": "ItzqgWJC5J98"
      },
      "source": [
        "### Abaixo é apresentado a execução da predição para o valor de k dado e a medida escolhida. Após, o cálculo da acurácia é realizada a seguir. "
      ]
    },
    {
      "cell_type": "code",
      "metadata": {
        "id": "I292pmVM1pDD",
        "colab": {
          "base_uri": "https://localhost:8080/"
        },
        "outputId": "3e9af3c7-eaa3-4932-f514-0422b33cad9b"
      },
      "source": [
        "# loop onde apresenta os resultados com varios valores de k para exibição\n",
        "i = 0\n",
        "exec = input('Digite quantas vezes irá executar: ') # quantas vezes ira executar o loop\n",
        "exec = int(exec)\n",
        "while i in range(exec): \n",
        "  vizinho = input('Digite o valor do k : ')\n",
        "  k = int(vizinho)\n",
        "\n",
        "  dist_input = input('Digite o nome da distância que quer utilizar : ')\n",
        "  dist_name = str(dist_input)\n",
        "\n",
        "  predictions = knn.predict(testFeatures, k, dist_input) # execução da predição \n",
        "  acc = accuracy_calc(testLabels, predictions) # cálculo da acurácia\n",
        "  i += 1 "
      ],
      "execution_count": 13,
      "outputs": [
        {
          "output_type": "stream",
          "text": [
            "Digite quantas vezes irá executar: 8\n",
            "Digite o valor do k : 1\n",
            "Digite o nome da distância que quer utilizar : euclidiana\n",
            "Acuracia do modelo kNN:  88.69565217391305\n",
            "Digite o valor do k : 1\n",
            "Digite o nome da distância que quer utilizar : manhattan\n",
            "Acuracia do modelo kNN:  90.43478260869566\n",
            "Digite o valor do k : 3\n",
            "Digite o nome da distância que quer utilizar : euclidiana\n",
            "Acuracia do modelo kNN:  86.95652173913044\n",
            "Digite o valor do k : 3\n",
            "Digite o nome da distância que quer utilizar : manhattan\n",
            "Acuracia do modelo kNN:  86.95652173913044\n",
            "Digite o valor do k : 5\n",
            "Digite o nome da distância que quer utilizar : euclidiana\n",
            "Acuracia do modelo kNN:  88.69565217391305\n",
            "Digite o valor do k : 5\n",
            "Digite o nome da distância que quer utilizar : manhattan\n",
            "Acuracia do modelo kNN:  89.56521739130436\n",
            "Digite o valor do k : 7\n",
            "Digite o nome da distância que quer utilizar : euclidiana\n",
            "Acuracia do modelo kNN:  87.82608695652175\n",
            "Digite o valor do k : 7\n",
            "Digite o nome da distância que quer utilizar : manhattan\n",
            "Acuracia do modelo kNN:  87.82608695652175\n"
          ],
          "name": "stdout"
        }
      ]
    },
    {
      "cell_type": "markdown",
      "metadata": {
        "id": "uTt7mtnxN3Mb"
      },
      "source": [
        "Após executar a predição e a medida de acurácia, percebe-se que quando é utilizada a distância manhattan há uma melhora na acurácia dos dados não normalizados, diferente dos dados normalizados anteriormente. \n",
        "\n",
        "Por exemplo: com k = 1, nos dados normalizados, utilizando a distância euclidiana a acurácia foi de 92.17% e com a manhattan foi de 91.30%.\n",
        "\n",
        "Com o dataset de dados não normalizados, com k = 1, o resultado da acurácia para a medida euclidiana foi de 88.69% enquanto a manhattan foi de 90.43%\n",
        "\n",
        "A distância euclidiana é o caminho mais curto entre a origem e o destino, que é uma linha reta, enquanto a distância Manhattan é a soma de todas as distâncias reais entre a fonte e o destino, onde cada distância são sempre as linhas retas. \n",
        "\n",
        "Mas comparando ambos resultados, os melhores resultados foram vistos quando aplicamos kNN nos dados normalizados (entre 0 e 1).\n"
      ]
    },
    {
      "cell_type": "markdown",
      "metadata": {
        "id": "TsCsytyiJb0P"
      },
      "source": [
        "### Visualização dos dados"
      ]
    },
    {
      "cell_type": "code",
      "metadata": {
        "colab": {
          "base_uri": "https://localhost:8080/",
          "height": 545
        },
        "id": "Wno5QyCDQMTz",
        "outputId": "97b17b5d-6aca-437d-ece2-a9b65e96c407"
      },
      "source": [
        "# Importando bibliotecas para visualização dos dados\n",
        "import matplotlib.pyplot as plt \n",
        "\n",
        "df = pd.read_csv('cancer_train.csv')\n",
        "points_1 = df[0:50].values.tolist()\n",
        "points_2 = df[50:100].values.tolist()\n",
        "\n",
        "points_1 = np.array(points_1)\n",
        "points_2 = np.array(points_2)\n",
        "\n",
        "\n",
        "## Plot the data points to visualize \n",
        "plt.figure(figsize=(12,4))\n",
        "plt.scatter(points_1[:,0],points_1[:,1],color='red',label='Maligno')\n",
        "plt.scatter(points_2[:,0],points_2[:,1],color='black',label='Benigno')\n",
        "plt.legend()\n",
        "plt.title('Dataset de treino com dados malignos e benignos')\n",
        "plt.show()\n",
        "\n",
        "# Importando bibliotecas para visualização dos dados\n",
        "import matplotlib.pyplot as plt \n",
        "\n",
        "df = pd.read_csv('cancer_test.csv')\n",
        "points_1 = df[0:50].values.tolist()\n",
        "points_2 = df[50:100].values.tolist()\n",
        "\n",
        "points_1 = np.array(points_1)\n",
        "points_2 = np.array(points_2)\n",
        "\n",
        "\n",
        "## Plot the data points to visualize \n",
        "plt.figure(figsize=(12,4))\n",
        "plt.scatter(points_1[:,0],points_1[:,1],color='red',label='Maligno')\n",
        "plt.scatter(points_2[:,0],points_2[:,1],color='black',label='Benigno')\n",
        "plt.legend()\n",
        "plt.title('Dataset de teste com dados malignos e benignos')\n",
        "plt.show()\n"
      ],
      "execution_count": 14,
      "outputs": [
        {
          "output_type": "display_data",
          "data": {
            "image/png": "[encoded data removed]",
            "text/plain": [
              "<Figure size 864x288 with 1 Axes>"
            ]
          },
          "metadata": {
            "tags": [],
            "needs_background": "light"
          }
        },
        {
          "output_type": "display_data",
          "data": {
            "image/png": "[encoded data removed]",
            "text/plain": [
              "<Figure size 864x288 with 1 Axes>"
            ]
          },
          "metadata": {
            "tags": [],
            "needs_background": "light"
          }
        }
      ]
    },
    {
      "cell_type": "markdown",
      "metadata": {
        "id": "3A1hPoyf8CLG"
      },
      "source": [
        "# Questão:\n",
        "#### Observe o intervalo em que varia cada atributo no dado de treinamento: há uma grande diferença entre os valores máximo e mínimo de cada atributo?\n",
        "\n",
        "#### **Resposta:** Sim"
      ]
    },
    {
      "cell_type": "code",
      "metadata": {
        "colab": {
          "base_uri": "https://localhost:8080/"
        },
        "id": "oNaz0CIK2sKA",
        "outputId": "a51740cc-e459-4b3a-b30d-898ae20820b1"
      },
      "source": [
        "df = trainFeatures # dataset de dados de treino\n",
        "\n",
        "print('o maior valor do dataset:', (max(map(max, df)))) # valor maximo do dataset de treino\n",
        "print('o menor valor do dataset:', (min(map(min, df)))) # valor minimo do dataset de treino"
      ],
      "execution_count": 57,
      "outputs": [
        {
          "output_type": "stream",
          "text": [
            "o maior valor do dataset: 9968.0\n",
            "o menor valor do dataset: 0.0\n"
          ],
          "name": "stdout"
        }
      ]
    },
    {
      "cell_type": "markdown",
      "metadata": {
        "id": "6pO7rieb-pQg"
      },
      "source": [
        "#### Abaixo eu demonstro melhor os resultados dos valores máximos e mínimos de cada atributo utilizando a biblioteca matplotlib.pyplot.\n",
        "####Pode-se observar a variabilidade dos valores não normalizados."
      ]
    },
    {
      "cell_type": "code",
      "metadata": {
        "colab": {
          "base_uri": "https://localhost:8080/",
          "height": 1000
        },
        "id": "uFIQ-rMS86jX",
        "outputId": "e6d2aa5b-b0bf-4f22-ccce-ef81a9a91416"
      },
      "source": [
        "import matplotlib.pyplot as plt\n",
        "df = trainFeatures\n",
        "\n",
        "df_squad = pd.DataFrame(df)\n",
        "df_squad.head()\n",
        "\n",
        "fig = plt.figure(figsize=[10,20])\n",
        "ax = fig.gca()\n",
        "df_squad.hist(ax=ax)\n",
        "plt.show()"
      ],
      "execution_count": 68,
      "outputs": [
        {
          "output_type": "stream",
          "text": [
            "/usr/local/lib/python3.6/dist-packages/ipykernel_launcher.py:17: UserWarning: To output multiple subplots, the figure containing the passed axes is being cleared\n"
          ],
          "name": "stderr"
        },
        {
          "output_type": "display_data",
          "data": {
            "image/png": "[encoded data removed]",
            "text/plain": [
              "<Figure size 720x1440 with 30 Axes>"
            ]
          },
          "metadata": {
            "tags": [],
            "needs_background": "light"
          }
        }
      ]
    },
    {
      "cell_type": "markdown",
      "metadata": {
        "id": "nxYxf19U_KdY"
      },
      "source": [
        "# Questão:\n",
        "### Analise e comente se houveram ou não diferenças em relação à taxa deacerto do algoritmo treinado e testado com dados normalizados. A normalização impactou? De que forma: melhorando ou piorando o desempenho? Esta tendência foi observada para todos os valores de k?\n",
        "\n",
        "### Resposta:\n",
        "\n",
        "Sim, a normalização dos dados impactou no resultado da acurácia. Enquanto com os dados normalizados a média da acurácia para todos os valores de k foi de 93%, para os dados normalizados a média da acurácia foi de 88%."
      ]
    }
  ]
}