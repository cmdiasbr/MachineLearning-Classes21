{
  "nbformat": 4,
  "nbformat_minor": 0,
  "metadata": {
    "colab": {
      "name": "knnAlg_dadosNormalizados.ipynb",
      "provenance": [],
      "collapsed_sections": []
    },
    "kernelspec": {
      "name": "python3",
      "display_name": "Python 3"
    }
  },
  "cells": [
    {
      "cell_type": "markdown",
      "metadata": {
        "id": "-sUBsGE-O4T4"
      },
      "source": [
        "# **Atividade prática: Algoritmo k-Nearest Neighbors (KNN)**\n",
        "### Aluna: Camila Alves Dias, número: 320636\n",
        "\n",
        "1.   Realizar uma ​ implementação própria​ do algoritmo KNN\n",
        "\n",
        "*   O primeiro passo é calcular as distâncias (euclidiana e manhattan)\n",
        "*   Depois obtemos os vizinhos mais próximos (Nearest Neighbors)\n",
        "*  E por fim é feito as predições \n",
        "\n",
        "\n",
        "\n",
        "\n",
        "2.   Avaliar o uso do algoritmo KNN com diferentes valores de k\n",
        "3.   Verificar o efeito da normalização de dados sobre os resultados\n",
        "\n"
      ]
    },
    {
      "cell_type": "markdown",
      "metadata": {
        "id": "IVWhHBnunnTb"
      },
      "source": [
        "### Fazer os imports das bibliotecas"
      ]
    },
    {
      "cell_type": "code",
      "metadata": {
        "id": "AQEsOYCDE21q"
      },
      "source": [
        "import pandas as pd # biblioteca de análise de dados\n",
        "\n",
        "from csv import reader # ler arquivos csv\n",
        "#from sys import exit \n",
        "\n",
        "from math import sqrt # retorna a raiz quadrada de qualquer número\n",
        "\n",
        "import operator # exporta um conjunto de funções dos operadores de Python\n",
        "\n",
        "from operator import itemgetter # constrói um chamável que assume um objeto iterável \n",
        "#(por exemplo, lista, tupla, conjunto) como entrada e busca o enésimo elemento dele.\n",
        "\n",
        "import numpy as np # biblioteca que realiza cálculos em arrays multidimensionais"
      ],
      "execution_count": 171,
      "outputs": []
    },
    {
      "cell_type": "markdown",
      "metadata": {
        "id": "8QYWko_un4Z7"
      },
      "source": [
        "### Abaixo encontra-se a classe com duas funções de medidas: medida Euclidiana e Manhattan\n",
        "\n",
        "Descrição do cálculo da distância euclidiana:\n",
        "sqrt(sum i to N (x1_i – x2_i)^2)\n",
        "\n",
        "entrada = vetor1, vetor2. São os vetores de entrada para os quais a distância deve ser calculada.\n",
        "\n",
        "saída = distância euclidiana calculada de dois vetores.\n",
        "\n",
        "Descrição do cálculo da distância Manhattan:\n",
        "\n",
        "Entrada = Pega 2 vetores e retorna a distância de manhattan. A ideia é parecida com a função da distância Euclidiana. \n",
        "\n",
        "A saída será a distância Manhattan de dois vetores de entrada\n"
      ]
    },
    {
      "cell_type": "code",
      "metadata": {
        "id": "kIqZG5vICdEh"
      },
      "source": [
        "class dist_metric:\n",
        "# métodos para calcular métricas de distância \n",
        "  def __init__(self):\n",
        "    pass\n",
        "  \n",
        "  # Função para calcular a distância euclidiana\n",
        "  def dist_euclidiana(self, vector1, vector2):\n",
        "    self.vectorA, self.vectorB = vector1, vector2\n",
        "    distance = 0.0\n",
        "    for i in range(len(self.vectorA)-1):\n",
        "      distance += sqrt(((self.vectorA[i]) - (self.vectorB[i]))** 2)\n",
        "     #distance += (self.vectorA[i] - self.vectorB[i])**2\n",
        "    return distance\n",
        "  \n",
        "  # Função para calcular a distância de Manhattan\n",
        "  def dist_manhattan(self, vector1, vector2):\n",
        "    self.vectorA, self.vectorB = vector1, vector2\n",
        "    return sum(abs(np.array(self.vectorA) - np.array(self.vectorB)))"
      ],
      "execution_count": 172,
      "outputs": []
    },
    {
      "cell_type": "markdown",
      "metadata": {
        "id": "-SmUAOvqqAXQ"
      },
      "source": [
        "### Algoritmo K-NearestNeighbors \n",
        "*   entrada k: total de vizinhos\n",
        "*   dist_metric: tipo de distancia metrica que sera utilizada. \n",
        "\n",
        "A função getNeighbors seleciona o subconjunto com a menor distância, qual é calculada na função euclidean_dist da classe dist_metric.\n",
        "\n",
        "Todo o conjunto de dados de treinamento é armazenado. \n",
        "\n",
        "Quando uma predição é necessária, os registros *k-most similar* a um novo registro do conjunto de dados de treinamento são localizados. A partir desses vizinhos, uma previsão resumida é feita.\n",
        "\n",
        "O dataset presente possui 2 classes binárias (cancer benigno e cancer maligno). \n",
        "\n",
        "Dentro do dataset pode haver um ponto misterioso cuja classe é necessária prever. \n",
        "\n",
        "Para descobrir a qual classe esse ponto pertence, é necessário comparar a distância (euclidiana ou manhattan) do ponto misterioso com as amostras de treinamento e selecionar os K vizinhos mais próximos.\n",
        "\n",
        "O k indica o número de amostras de treinamento próximo a serem consideradas ao prever um ponto de teste não rotulado.\n",
        "\n",
        "O label de classe do novo ponto é determinado pelo voto da maioria de seus k vizinhos mais próximos. O novo ponto será atribuído à turma com maior número de votos.\n",
        "\n",
        "\n"
      ]
    },
    {
      "cell_type": "code",
      "metadata": {
        "id": "-ufqUNQjoRpZ"
      },
      "source": [
        "class kNNClassifier:\n",
        "  #def __init__(self,k = 3, dist_metric = 'euclidiana'):\n",
        "    #pass\n",
        "  \n",
        "  def fit(self, xTrain, yTrain):\n",
        "    # treina o modelo kNN com data x\n",
        "    assert len(xTrain) == len(yTrain)\n",
        "    self.trainData = xTrain # treina os dados com as coordenadas \n",
        "    self.trainLabels = yTrain # labels/rotulos do dataset de treino\n",
        "\n",
        "  def getNeighbors(self, testRow):\n",
        "    # input testRow: dados de teste com coordenadas\n",
        "    calcDM = dist_metric()\n",
        "    distances = []\n",
        "    for i, trainRow in enumerate(self.trainData):\n",
        "      \n",
        "      # utiliza a distancia euclidiana\n",
        "      if self.dist_metric == 'euclidiana': \n",
        "        distances.append([trainRow, calcDM.dist_euclidiana(testRow, trainRow), self.trainLabels[i]])\n",
        "      \n",
        "      # utiliza a distancia manhattan\n",
        "      elif self.dist_metric == 'manhattan': \n",
        "        distances.append([trainRow, calcDM.dist_manhattan(testRow, trainRow), self.trainLabels[i]])\n",
        "      \n",
        "      distances.sort(key=operator.itemgetter(1))\n",
        "    neighbors = []\n",
        "    for index in range(0, self.k):\n",
        "      neighbors.append(distances[index])\n",
        "    return neighbors\n",
        "  \n",
        "  def predict(self, xTest, k, dist_metric):\n",
        "  # aqui o modelo kNN é aplicado no dataset de teste\n",
        "    self.testData = xTest # dados de teste com coordenadas\n",
        "    self.k = k # numero de vizinhos\n",
        "    self.dist_metric = dist_metric # funcao de distancia\n",
        "    predictions = []\n",
        "    for i, testCase in enumerate(self.testData):\n",
        "      neighbors = self.getNeighbors(testCase)\n",
        "      output= [row[-1] for row in neighbors]\n",
        "      prediction = max(set(output), key=output.count)\n",
        "      predictions.append(prediction)\n",
        "    return predictions # saída: rótulo previsto/predicted label "
      ],
      "execution_count": 173,
      "outputs": []
    },
    {
      "cell_type": "markdown",
      "metadata": {
        "id": "PhiedTu2OJzT"
      },
      "source": [
        "### A seção abaixo possui a função de avalição acurácia"
      ]
    },
    {
      "cell_type": "code",
      "metadata": {
        "id": "cC2x47nqroIz"
      },
      "source": [
        "def accuracy_calc(actual, predictions):\n",
        "  # calcula a acuracia das previsões\n",
        "  assert len(actual) == len(predictions)\n",
        "  correct = 0\n",
        "  for i in range(len(actual)):\n",
        "    if actual[i] == predictions[i]:\n",
        "      correct += 1\n",
        "  print(\"Acuracia do modelo kNN: \", correct / float(len(actual)) * 100.0)"
      ],
      "execution_count": 174,
      "outputs": []
    },
    {
      "cell_type": "markdown",
      "metadata": {
        "id": "m0mClBViwt02"
      },
      "source": [
        "### abaixo é feito o processamento do arquivo lido"
      ]
    },
    {
      "cell_type": "code",
      "metadata": {
        "id": "HGAj3mS6sCD-"
      },
      "source": [
        "def readData(fileName):\n",
        "  data = []\n",
        "  labels = []\n",
        "  with open(fileName, \"r\") as file:\n",
        "    lines = file.readlines() \n",
        "  for line in lines:\n",
        "    splitline = line.strip().split(',')\n",
        "    data.append(splitline[:-1]) # vetor com os dados do dataframe\n",
        "    labels.append(splitline[-1]) # vetor com os labels/classes\n",
        "  return data, labels"
      ],
      "execution_count": 175,
      "outputs": []
    },
    {
      "cell_type": "markdown",
      "metadata": {
        "id": "3biWlTi_sNni"
      },
      "source": [
        "### Abaixo é solicitado quais serão os datasets de treino e teste "
      ]
    },
    {
      "cell_type": "code",
      "metadata": {
        "colab": {
          "base_uri": "https://localhost:8080/"
        },
        "id": "c5FhrPgitRFW",
        "outputId": "257cce93-4364-4ab3-a55b-318807a85286"
      },
      "source": [
        "# carrega o conjunto de dados de treinamento \n",
        "training_file = input('Digite o nome do arquivo de dados de treinamento : ')\n",
        "trainFile = str(training_file)\n",
        "\n",
        "trainData, trainLabel = readData(trainFile)\n",
        "trainData = np.array(trainData, dtype=np.float32)\n",
        "\n",
        "trainFeatures = []\n",
        "for row in trainData:\n",
        "  index = row[0:]\n",
        "  temp = [(item) for item in index]\n",
        "  trainFeatures.append(temp)\n",
        "trainLabels = [(label) for label in trainLabel]\n",
        "\n",
        "print ('Train set: ' + repr(len(trainData)))"
      ],
      "execution_count": 176,
      "outputs": [
        {
          "output_type": "stream",
          "text": [
            "Digite o nome do arquivo de dados de treinamento : cancer_train.csv\n",
            "Train set: 456\n"
          ],
          "name": "stdout"
        }
      ]
    },
    {
      "cell_type": "code",
      "metadata": {
        "colab": {
          "base_uri": "https://localhost:8080/"
        },
        "id": "MtEL_T1iu0Ho",
        "outputId": "9a6939c0-7889-492c-cb38-1533badea1b2"
      },
      "source": [
        "# carrega o conjunto de dados de teste \n",
        "test_file = input('Digite o nome do arquivo de dados de teste : ')\n",
        "testFile = str(test_file)\n",
        "\n",
        "testData, testLabel = readData(testFile)\n",
        "testData = np.array(testData, dtype=np.float32)\n",
        "\n",
        "testFeatures = []\n",
        "for row in testData:\n",
        "  index = row[0:]\n",
        "  temp = [(item) for item in index]\n",
        "  testFeatures.append(temp)\n",
        "testLabels = [(label) for label in testLabel]\n",
        "print ('Test set: ' + repr(len(testData)))"
      ],
      "execution_count": 177,
      "outputs": [
        {
          "output_type": "stream",
          "text": [
            "Digite o nome do arquivo de dados de teste : cancer_test.csv\n",
            "Test set: 115\n"
          ],
          "name": "stdout"
        }
      ]
    },
    {
      "cell_type": "markdown",
      "metadata": {
        "id": "d2Kv4IRuNfJU"
      },
      "source": [
        "### Na seção abaixo é chamado a classe kNNClassifier, qual contém as funções de distancias "
      ]
    },
    {
      "cell_type": "code",
      "metadata": {
        "colab": {
          "base_uri": "https://localhost:8080/"
        },
        "id": "jj3k19mAvXJX",
        "outputId": "56c6c48c-458a-4fd1-a71e-e8468758ce15"
      },
      "source": [
        "knn = kNNClassifier() # chama a função kNN\n",
        "knn.fit(trainFeatures, trainLabels) # treina o modelo com a base de treino\n",
        "print(trainLabels) # exibe o vetor de targets"
      ],
      "execution_count": 178,
      "outputs": [
        {
          "output_type": "stream",
          "text": [
            "['target', '0.0', '0.0', '0.0', '0.0', '1.0', '0.0', '0.0', '1.0', '0.0', '0.0', '0.0', '0.0', '1.0', '1.0', '0.0', '0.0', '0.0', '0.0', '0.0', '1.0', '0.0', '0.0', '0.0', '0.0', '1.0', '0.0', '0.0', '1.0', '1.0', '1.0', '1.0', '1.0', '1.0', '0.0', '1.0', '1.0', '1.0', '0.0', '0.0', '0.0', '0.0', '1.0', '1.0', '0.0', '0.0', '0.0', '0.0', '1.0', '1.0', '1.0', '1.0', '1.0', '1.0', '0.0', '0.0', '0.0', '1.0', '1.0', '0.0', '1.0', '1.0', '0.0', '0.0', '1.0', '0.0', '0.0', '1.0', '0.0', '0.0', '0.0', '0.0', '1.0', '1.0', '0.0', '1.0', '1.0', '0.0', '1.0', '0.0', '0.0', '1.0', '1.0', '0.0', '1.0', '1.0', '0.0', '0.0', '1.0', '1.0', '0.0', '1.0', '0.0', '0.0', '0.0', '0.0', '0.0', '0.0', '0.0', '1.0', '0.0', '1.0', '1.0', '0.0', '1.0', '0.0', '0.0', '1.0', '1.0', '1.0', '0.0', '0.0', '0.0', '1.0', '0.0', '1.0', '1.0', '0.0', '1.0', '0.0', '0.0', '1.0', '0.0', '1.0', '0.0', '0.0', '0.0', '1.0', '0.0', '1.0', '0.0', '0.0', '0.0', '1.0', '1.0', '0.0', '0.0', '1.0', '0.0', '0.0', '0.0', '0.0', '1.0', '0.0', '0.0', '1.0', '0.0', '1.0', '0.0', '0.0', '1.0', '0.0', '0.0', '0.0', '0.0', '0.0', '0.0', '0.0', '1.0', '0.0', '0.0', '0.0', '0.0', '0.0', '1.0', '1.0', '1.0', '0.0', '1.0', '1.0', '1.0', '0.0', '1.0', '0.0', '0.0', '0.0', '0.0', '1.0', '0.0', '0.0', '0.0', '0.0', '0.0', '0.0', '0.0', '0.0', '0.0', '1.0', '0.0', '0.0', '0.0', '1.0', '0.0', '0.0', '1.0', '0.0', '0.0', '0.0', '0.0', '0.0', '0.0', '0.0', '0.0', '1.0', '0.0', '0.0', '1.0', '0.0', '0.0', '0.0', '0.0', '0.0', '1.0', '1.0', '0.0', '1.0', '0.0', '0.0', '1.0', '1.0', '0.0', '0.0', '1.0', '0.0', '1.0', '0.0', '1.0', '0.0', '0.0', '0.0', '0.0', '0.0', '1.0', '0.0', '1.0', '0.0', '1.0', '1.0', '1.0', '0.0', '1.0', '0.0', '0.0', '0.0', '0.0', '0.0', '1.0', '0.0', '0.0', '1.0', '0.0', '0.0', '0.0', '1.0', '1.0', '0.0', '0.0', '1.0', '0.0', '1.0', '1.0', '0.0', '0.0', '0.0', '1.0', '1.0', '0.0', '0.0', '0.0', '1.0', '0.0', '1.0', '1.0', '0.0', '1.0', '1.0', '0.0', '1.0', '0.0', '0.0', '0.0', '0.0', '0.0', '0.0', '0.0', '1.0', '0.0', '0.0', '1.0', '0.0', '1.0', '0.0', '1.0', '1.0', '1.0', '1.0', '0.0', '0.0', '0.0', '1.0', '1.0', '0.0', '1.0', '1.0', '0.0', '0.0', '1.0', '1.0', '1.0', '0.0', '0.0', '0.0', '0.0', '1.0', '0.0', '0.0', '0.0', '0.0', '1.0', '0.0', '0.0', '1.0', '0.0', '0.0', '0.0', '1.0', '0.0', '0.0', '0.0', '0.0', '1.0', '0.0', '0.0', '0.0', '1.0', '1.0', '0.0', '0.0', '0.0', '0.0', '0.0', '1.0', '0.0', '1.0', '0.0', '1.0', '0.0', '0.0', '0.0', '1.0', '1.0', '0.0', '1.0', '0.0', '0.0', '1.0', '0.0', '0.0', '0.0', '0.0', '1.0', '0.0', '0.0', '0.0', '0.0', '0.0', '0.0', '1.0', '1.0', '1.0', '1.0', '0.0', '0.0', '0.0', '1.0', '0.0', '0.0', '0.0', '0.0', '0.0', '1.0', '0.0', '1.0', '0.0', '0.0', '0.0', '1.0', '0.0', '0.0', '1.0', '1.0', '0.0', '1.0', '0.0', '1.0', '1.0', '0.0', '0.0', '1.0', '1.0', '1.0', '0.0', '0.0', '0.0', '0.0', '0.0', '0.0', '1.0', '0.0', '0.0', '1.0', '0.0', '0.0', '1.0', '1.0', '0.0', '1.0', '1.0', '1.0', '1.0', '0.0', '0.0', '1.0', '0.0', '0.0', '0.0', '0.0', '1.0', '0.0', '0.0', '0.0', '0.0', '0.0', '0.0', '1.0', '1.0', '0.0', '0.0', '1.0', '0.0', '0.0', '1.0', '1.0', '0.0', '0.0', '1.0', '1.0', '0.0', '0.0', '1.0', '0.0', '0.0', '1.0', '0.0', '0.0', '0.0']\n"
          ],
          "name": "stdout"
        }
      ]
    },
    {
      "cell_type": "markdown",
      "metadata": {
        "id": "ItzqgWJC5J98"
      },
      "source": [
        "### Abaixo é apresentado a execução da predição para o valor de k dado e a medida escolhida. Após, o cálculo da acurácia é realizada a seguir. "
      ]
    },
    {
      "cell_type": "code",
      "metadata": {
        "id": "I292pmVM1pDD",
        "colab": {
          "base_uri": "https://localhost:8080/"
        },
        "outputId": "201c7ef8-410b-4e1a-9408-464dadc2745d"
      },
      "source": [
        "# loop onde apresenta os resultados com varios valores de k para exibição\n",
        "i = 0\n",
        "exec = input('Digite quantas vezes irá executar: ') # quantas vezes ira executar o loop\n",
        "exec = int(exec)\n",
        "while i in range(exec): \n",
        "  vizinho = input('Digite o valor do k : ')\n",
        "  k = int(vizinho)\n",
        "\n",
        "  dist_input = input('Digite o nome da distância que quer utilizar : ')\n",
        "  dist_name = str(dist_input)\n",
        "\n",
        "  predictions = knn.predict(testFeatures, k, dist_input) # execução da predição \n",
        "  acc = accuracy_calc(testLabels, predictions) # cálculo da acurácia\n",
        "  i += 1 "
      ],
      "execution_count": 180,
      "outputs": [
        {
          "output_type": "stream",
          "text": [
            "Digite quantas vezes irá executar: 6\n",
            "Digite o valor do k : 3\n",
            "Digite o nome da distância que quer utilizar : euclidiana\n",
            "Acuracia do modelo kNN:  94.78260869565217\n",
            "Digite o valor do k : 3\n",
            "Digite o nome da distância que quer utilizar : manhattan\n",
            "Acuracia do modelo kNN:  94.78260869565217\n",
            "Digite o valor do k : 5\n",
            "Digite o nome da distância que quer utilizar : euclidiana\n",
            "Acuracia do modelo kNN:  93.91304347826087\n",
            "Digite o valor do k : 5\n",
            "Digite o nome da distância que quer utilizar : manhattan\n",
            "Acuracia do modelo kNN:  94.78260869565217\n",
            "Digite o valor do k : 7\n",
            "Digite o nome da distância que quer utilizar : euclidiana\n",
            "Acuracia do modelo kNN:  93.91304347826087\n",
            "Digite o valor do k : 7\n",
            "Digite o nome da distância que quer utilizar : manhattan\n",
            "Acuracia do modelo kNN:  93.91304347826087\n"
          ],
          "name": "stdout"
        }
      ]
    },
    {
      "cell_type": "markdown",
      "metadata": {
        "id": "uTt7mtnxN3Mb"
      },
      "source": [
        "Conforme a saída apresentada acima, o que posso concluir é que conforme o valor de k aumenta quando aplicado a distância euclidiana, a acurácia diminuiu. \n",
        "\n",
        "No caso da medida Manhattan, o mesmo aconteceu."
      ]
    },
    {
      "cell_type": "markdown",
      "metadata": {
        "id": "TsCsytyiJb0P"
      },
      "source": [
        "### Visualização dos dados"
      ]
    },
    {
      "cell_type": "code",
      "metadata": {
        "colab": {
          "base_uri": "https://localhost:8080/",
          "height": 545
        },
        "id": "Wno5QyCDQMTz",
        "outputId": "e5ede083-92bc-4206-a3f6-ee3d697bbbde"
      },
      "source": [
        "# Importando bibliotecas para visualização dos dados\n",
        "import matplotlib.pyplot as plt \n",
        "\n",
        "df = pd.read_csv('cancer_train.csv')\n",
        "points_1 = df[0:50].values.tolist()\n",
        "points_2 = df[50:100].values.tolist()\n",
        "\n",
        "points_1 = np.array(points_1)\n",
        "points_2 = np.array(points_2)\n",
        "\n",
        "\n",
        "## Plot the data points to visualize \n",
        "plt.figure(figsize=(12,4))\n",
        "plt.scatter(points_1[:,0],points_1[:,1],color='red',label='Maligno')\n",
        "plt.scatter(points_2[:,0],points_2[:,1],color='black',label='Benigno')\n",
        "plt.legend()\n",
        "plt.title('Dataset de treino com dados malignos e benignos')\n",
        "plt.show()\n",
        "\n",
        "# Importando bibliotecas para visualização dos dados\n",
        "import matplotlib.pyplot as plt \n",
        "\n",
        "df = pd.read_csv('cancer_test.csv')\n",
        "points_1 = df[0:50].values.tolist()\n",
        "points_2 = df[50:100].values.tolist()\n",
        "\n",
        "points_1 = np.array(points_1)\n",
        "points_2 = np.array(points_2)\n",
        "\n",
        "\n",
        "## Plot the data points to visualize \n",
        "plt.figure(figsize=(12,4))\n",
        "plt.scatter(points_1[:,0],points_1[:,1],color='red',label='Maligno')\n",
        "plt.scatter(points_2[:,0],points_2[:,1],color='black',label='Benigno')\n",
        "plt.legend()\n",
        "plt.title('Dataset de teste com dados malignos e benignos')\n",
        "plt.show()\n"
      ],
      "execution_count": 181,
      "outputs": [
        {
          "output_type": "display_data",
          "data": {
            "image/png": "[encoded data removed]",
            "text/plain": [
              "<Figure size 864x288 with 1 Axes>"
            ]
          },
          "metadata": {
            "tags": [],
            "needs_background": "light"
          }
        },
        {
          "output_type": "display_data",
          "data": {
            "image/png": "[encoded data removed]",
            "text/plain": [
              "<Figure size 864x288 with 1 Axes>"
            ]
          },
          "metadata": {
            "tags": [],
            "needs_background": "light"
          }
        }
      ]
    }
  ]
}