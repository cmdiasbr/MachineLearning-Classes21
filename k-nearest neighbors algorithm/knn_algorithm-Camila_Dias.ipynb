{
  "nbformat": 4,
  "nbformat_minor": 0,
  "metadata": {
    "colab": {
      "name": "knn-algorithm-ML.ipynb",
      "provenance": []
    },
    "kernelspec": {
      "name": "python3",
      "display_name": "Python 3"
    }
  },
  "cells": [
    {
      "cell_type": "markdown",
      "metadata": {
        "id": "-sUBsGE-O4T4"
      },
      "source": [
        "# **Atividade prática: Algoritmo k-Nearest Neighbors (KNN)**\n",
        "### Aluna: Camila Alves Dias, número: 320636\n",
        "\n",
        "1.   Realizar uma ​ implementação própria​ do algoritmo KNN\n",
        "2.   Avaliar o uso do algoritmo KNN com diferentes valores de k\n",
        "3.   ~Verificar o efeito da normalização de dados sobre os resultados~ (obs.: não consegui finalizar)\n",
        "\n"
      ]
    },
    {
      "cell_type": "markdown",
      "metadata": {
        "id": "IVWhHBnunnTb"
      },
      "source": [
        "### Fazer os imports das bibliotecas"
      ]
    },
    {
      "cell_type": "code",
      "metadata": {
        "id": "AQEsOYCDE21q"
      },
      "source": [
        "import pandas as pd\n",
        "from csv import reader\n",
        "from sys import exit\n",
        "from math import sqrt\n",
        "from operator import itemgetter"
      ],
      "execution_count": 322,
      "outputs": []
    },
    {
      "cell_type": "markdown",
      "metadata": {
        "id": "8QYWko_un4Z7"
      },
      "source": [
        "### Abaixo encontra-se a classe com duas funções de medidas: medida Euclidiana e Manhattan"
      ]
    },
    {
      "cell_type": "code",
      "metadata": {
        "id": "kIqZG5vICdEh"
      },
      "source": [
        "class dist_metric:\n",
        "# métodos para calcular métricas de distância \n",
        "  def __init__(self):\n",
        "    pass\n",
        "  \n",
        "  def euclidean_dist(self, row1, row2):\n",
        "    self.vector1, self.vector2 = row1, row2\n",
        "    distance = 0.0\n",
        "    for i in range(len(self.vector1)-1):\n",
        "      distance += (self.vector1[i] - self.vector2[i])**2\n",
        "    return (distance)**0.5\n",
        "      \n",
        "  def manhattan_dist(self, row1, row2):\n",
        "    self.vector1, self.vector2 = row1, row2\n",
        "    if len(self.vector1) != len(self.vector2):\n",
        "      raise ValueError(\"Undefined for sequences of unequal length.\")\n",
        "    return np.abs(np.array(self.vector1) - np.array(self.vector2)).sum()"
      ],
      "execution_count": 323,
      "outputs": []
    },
    {
      "cell_type": "markdown",
      "metadata": {
        "id": "-SmUAOvqqAXQ"
      },
      "source": [
        "### Algoritmo K-NearestNeighbors \n",
        "*   entrada k: total de vizinhos\n",
        "*   dist_metric: tipo de distancia metrica que sera utilizada. \n",
        "\n",
        "\n"
      ]
    },
    {
      "cell_type": "code",
      "metadata": {
        "id": "-ufqUNQjoRpZ"
      },
      "source": [
        "class kNNClassifier:\n",
        "  def __init__(self,k = 3, dist_metric = 'euclidean'):\n",
        "    pass\n",
        "  \n",
        "  def fit(self, xTrain, yTrain):\n",
        "    # treina o modelo kNN com data x\n",
        "    assert len(xTrain) == len(yTrain)\n",
        "    self.trainData = xTrain # treina os dados com as coordenadas \n",
        "    self.trainLabels = yTrain # labels/rotulos do dataset de treino\n",
        "\n",
        "  def getNeighbors(self, testRow):\n",
        "    # input testRow: dados de teste com coordenadas\n",
        "    calcDM = dist_metric()\n",
        "    distances = []\n",
        "    for i, trainRow in enumerate(self.trainData):\n",
        "      \n",
        "      # utiliza a distancia euclidiana\n",
        "      if self.dist_metric == 'euclidean': \n",
        "        distances.append([trainRow, calcDM.euclidean_dist(testRow, trainRow), self.trainLabels[i]])\n",
        "      \n",
        "      # utiliza a distancia manhattan\n",
        "      elif self.dist_metric == 'manhattan': \n",
        "        distances.append([trainRow, calcDM.manhattan_dist(testRow, trainRow), self.trainLabels[i]])\n",
        "      \n",
        "      distances.sort(key=operator.itemgetter(1))\n",
        "    neighbors = []\n",
        "    for index in range(self.k):\n",
        "      neighbors.append(distances[index])\n",
        "    return neighbors\n",
        "  \n",
        "  def predict(self, xTest, k, dist_metric):\n",
        "  # aqui o modelo kNN é aplicado no dataset de teste\n",
        "    self.testData = xTest # dados de teste com coordenadas\n",
        "    self.k = k # numero de vizinhos\n",
        "    self.dist_metric = dist_metric # funcao de distancia\n",
        "    predictions = []\n",
        "    for i, testCase in enumerate(self.testData):\n",
        "      neighbors = self.getNeighbors(testCase)\n",
        "      output= [row[-1] for row in neighbors]\n",
        "      prediction = max(set(output), key=output.count)\n",
        "      predictions.append(prediction)\n",
        "    return predictions # saída: rótulo previsto/predicted label "
      ],
      "execution_count": 324,
      "outputs": []
    },
    {
      "cell_type": "markdown",
      "metadata": {
        "id": "PhiedTu2OJzT"
      },
      "source": [
        "### A seção abaixo possui a função de avalição acurácia"
      ]
    },
    {
      "cell_type": "code",
      "metadata": {
        "id": "cC2x47nqroIz"
      },
      "source": [
        "def accuracy_calc(actual, predictions):\n",
        "  # calcula a acuracia das previsões\n",
        "  assert len(actual) == len(predictions)\n",
        "  correct = 0\n",
        "  for i in range(len(actual)):\n",
        "    if actual[i] == predictions[i]:\n",
        "      correct += 1\n",
        "  print(\"Acuracia do modelo kNN: \", correct / float(len(actual)) * 100.0)"
      ],
      "execution_count": 325,
      "outputs": []
    },
    {
      "cell_type": "markdown",
      "metadata": {
        "id": "m0mClBViwt02"
      },
      "source": [
        "### abaixo é feito o processamento do arquivo lido"
      ]
    },
    {
      "cell_type": "code",
      "metadata": {
        "id": "HGAj3mS6sCD-"
      },
      "source": [
        "def readData(fileName):\n",
        "  data = []\n",
        "  labels = []\n",
        "  with open(fileName, \"r\") as file:\n",
        "    lines = file.readlines() \n",
        "  for line in lines:\n",
        "    splitline = line.strip().split(',')\n",
        "    data.append(splitline[:-1]) # vetor com os dados do dataframe\n",
        "    labels.append(splitline[-1]) # vetor com os labels/classes\n",
        "  return data, labels\n"
      ],
      "execution_count": 326,
      "outputs": []
    },
    {
      "cell_type": "markdown",
      "metadata": {
        "id": "3biWlTi_sNni"
      },
      "source": [
        "### Abaixo é solicitado quais serão os datasets de treino e teste "
      ]
    },
    {
      "cell_type": "code",
      "metadata": {
        "colab": {
          "base_uri": "https://localhost:8080/"
        },
        "id": "c5FhrPgitRFW",
        "outputId": "81234f7c-7829-4167-d8f7-c6b46da2ac8e"
      },
      "source": [
        "# carrega o conjunto de dados de treinamento \n",
        "training_file = input('Digite o nome do arquivo de dados de treinamento : ')\n",
        "trainFile = str(training_file)\n",
        "\n",
        "trainData, trainLabel = readData(trainFile)\n",
        "trainData = np.array(trainData, dtype=np.float32)\n",
        "\n",
        "trainFeatures = []\n",
        "for row in trainData:\n",
        "  index = row[1:]\n",
        "  temp = [(item) for item in index]\n",
        "  trainFeatures.append(temp)\n",
        "trainLabels = [(label) for label in trainLabel]\n",
        "\n",
        "print ('Train set: ' + repr(len(training_set)))"
      ],
      "execution_count": 327,
      "outputs": [
        {
          "output_type": "stream",
          "text": [
            "Digite o nome do arquivo de dados de treinamento : cancer_train.csv\n",
            "Train set: 455\n"
          ],
          "name": "stdout"
        }
      ]
    },
    {
      "cell_type": "code",
      "metadata": {
        "colab": {
          "base_uri": "https://localhost:8080/"
        },
        "id": "MtEL_T1iu0Ho",
        "outputId": "3fdfe923-38e8-4fbe-fa19-b6075f7e1b37"
      },
      "source": [
        "# carrega o conjunto de dados de teste \n",
        "test_file = input('Digite o nome do arquivo de dados de teste : ')\n",
        "testFile = str(test_file)\n",
        "\n",
        "testData, testLabel = readData(testFile)\n",
        "testData = np.array(testData, dtype=np.float32)\n",
        "\n",
        "testFeatures = []\n",
        "for row in testData:\n",
        "  index = row[0:]\n",
        "  temp = [(item) for item in index]\n",
        "  testFeatures.append(temp)\n",
        "testLabels = [(label) for label in testLabel]\n",
        "print ('Test set: ' + repr(len(test_set)))\n",
        "\n"
      ],
      "execution_count": 328,
      "outputs": [
        {
          "output_type": "stream",
          "text": [
            "Digite o nome do arquivo de dados de teste : cancer_test.csv\n",
            "Test set: 114\n"
          ],
          "name": "stdout"
        }
      ]
    },
    {
      "cell_type": "markdown",
      "metadata": {
        "id": "d2Kv4IRuNfJU"
      },
      "source": [
        "### Na seção abaixo é chamado a classe kNNClassifier, qual contém as funções de distancias "
      ]
    },
    {
      "cell_type": "code",
      "metadata": {
        "colab": {
          "base_uri": "https://localhost:8080/"
        },
        "id": "jj3k19mAvXJX",
        "outputId": "375a67a7-0d0b-41bd-c531-7a7251b6f424"
      },
      "source": [
        "knn = kNNClassifier() # chama a função kNN\n",
        "knn.fit(trainFeatures, trainLabels) # treina o modelo com a base de treino\n",
        "print(trainLabels) # exibe o vetor de targets"
      ],
      "execution_count": 329,
      "outputs": [
        {
          "output_type": "stream",
          "text": [
            "['target', '0.0', '0.0', '0.0', '0.0', '1.0', '0.0', '0.0', '1.0', '0.0', '0.0', '0.0', '0.0', '1.0', '1.0', '0.0', '0.0', '0.0', '0.0', '0.0', '1.0', '0.0', '0.0', '0.0', '0.0', '1.0', '0.0', '0.0', '1.0', '1.0', '1.0', '1.0', '1.0', '1.0', '0.0', '1.0', '1.0', '1.0', '0.0', '0.0', '0.0', '0.0', '1.0', '1.0', '0.0', '0.0', '0.0', '0.0', '1.0', '1.0', '1.0', '1.0', '1.0', '1.0', '0.0', '0.0', '0.0', '1.0', '1.0', '0.0', '1.0', '1.0', '0.0', '0.0', '1.0', '0.0', '0.0', '1.0', '0.0', '0.0', '0.0', '0.0', '1.0', '1.0', '0.0', '1.0', '1.0', '0.0', '1.0', '0.0', '0.0', '1.0', '1.0', '0.0', '1.0', '1.0', '0.0', '0.0', '1.0', '1.0', '0.0', '1.0', '0.0', '0.0', '0.0', '0.0', '0.0', '0.0', '0.0', '1.0', '0.0', '1.0', '1.0', '0.0', '1.0', '0.0', '0.0', '1.0', '1.0', '1.0', '0.0', '0.0', '0.0', '1.0', '0.0', '1.0', '1.0', '0.0', '1.0', '0.0', '0.0', '1.0', '0.0', '1.0', '0.0', '0.0', '0.0', '1.0', '0.0', '1.0', '0.0', '0.0', '0.0', '1.0', '1.0', '0.0', '0.0', '1.0', '0.0', '0.0', '0.0', '0.0', '1.0', '0.0', '0.0', '1.0', '0.0', '1.0', '0.0', '0.0', '1.0', '0.0', '0.0', '0.0', '0.0', '0.0', '0.0', '0.0', '1.0', '0.0', '0.0', '0.0', '0.0', '0.0', '1.0', '1.0', '1.0', '0.0', '1.0', '1.0', '1.0', '0.0', '1.0', '0.0', '0.0', '0.0', '0.0', '1.0', '0.0', '0.0', '0.0', '0.0', '0.0', '0.0', '0.0', '0.0', '0.0', '1.0', '0.0', '0.0', '0.0', '1.0', '0.0', '0.0', '1.0', '0.0', '0.0', '0.0', '0.0', '0.0', '0.0', '0.0', '0.0', '1.0', '0.0', '0.0', '1.0', '0.0', '0.0', '0.0', '0.0', '0.0', '1.0', '1.0', '0.0', '1.0', '0.0', '0.0', '1.0', '1.0', '0.0', '0.0', '1.0', '0.0', '1.0', '0.0', '1.0', '0.0', '0.0', '0.0', '0.0', '0.0', '1.0', '0.0', '1.0', '0.0', '1.0', '1.0', '1.0', '0.0', '1.0', '0.0', '0.0', '0.0', '0.0', '0.0', '1.0', '0.0', '0.0', '1.0', '0.0', '0.0', '0.0', '1.0', '1.0', '0.0', '0.0', '1.0', '0.0', '1.0', '1.0', '0.0', '0.0', '0.0', '1.0', '1.0', '0.0', '0.0', '0.0', '1.0', '0.0', '1.0', '1.0', '0.0', '1.0', '1.0', '0.0', '1.0', '0.0', '0.0', '0.0', '0.0', '0.0', '0.0', '0.0', '1.0', '0.0', '0.0', '1.0', '0.0', '1.0', '0.0', '1.0', '1.0', '1.0', '1.0', '0.0', '0.0', '0.0', '1.0', '1.0', '0.0', '1.0', '1.0', '0.0', '0.0', '1.0', '1.0', '1.0', '0.0', '0.0', '0.0', '0.0', '1.0', '0.0', '0.0', '0.0', '0.0', '1.0', '0.0', '0.0', '1.0', '0.0', '0.0', '0.0', '1.0', '0.0', '0.0', '0.0', '0.0', '1.0', '0.0', '0.0', '0.0', '1.0', '1.0', '0.0', '0.0', '0.0', '0.0', '0.0', '1.0', '0.0', '1.0', '0.0', '1.0', '0.0', '0.0', '0.0', '1.0', '1.0', '0.0', '1.0', '0.0', '0.0', '1.0', '0.0', '0.0', '0.0', '0.0', '1.0', '0.0', '0.0', '0.0', '0.0', '0.0', '0.0', '1.0', '1.0', '1.0', '1.0', '0.0', '0.0', '0.0', '1.0', '0.0', '0.0', '0.0', '0.0', '0.0', '1.0', '0.0', '1.0', '0.0', '0.0', '0.0', '1.0', '0.0', '0.0', '1.0', '1.0', '0.0', '1.0', '0.0', '1.0', '1.0', '0.0', '0.0', '1.0', '1.0', '1.0', '0.0', '0.0', '0.0', '0.0', '0.0', '0.0', '1.0', '0.0', '0.0', '1.0', '0.0', '0.0', '1.0', '1.0', '0.0', '1.0', '1.0', '1.0', '1.0', '0.0', '0.0', '1.0', '0.0', '0.0', '0.0', '0.0', '1.0', '0.0', '0.0', '0.0', '0.0', '0.0', '0.0', '1.0', '1.0', '0.0', '0.0', '1.0', '0.0', '0.0', '1.0', '1.0', '0.0', '0.0', '1.0', '1.0', '0.0', '0.0', '1.0', '0.0', '0.0', '1.0', '0.0', '0.0', '0.0']\n"
          ],
          "name": "stdout"
        }
      ]
    },
    {
      "cell_type": "code",
      "metadata": {
        "colab": {
          "base_uri": "https://localhost:8080/"
        },
        "id": "_pDPnCGLvZlR",
        "outputId": "7ac2d966-ca79-4913-bb1f-f38ca9bab492"
      },
      "source": [
        "vizinho = input('Digite o valor do k : ')\n",
        "k = int(vizinho)\n",
        "\n",
        "dist_input = input('Digite o nome da distância que quer utilizar : ')\n",
        "dist_name = str(dist_input)\n",
        "# euclidean ou manhattan\n",
        "# obs.: estou com erro no cálculo do manhattan\n",
        "\n",
        "predictions = knn.predict(testFeatures, k, dist_input)\n",
        "accuracy_calc(testLabels, predictions)"
      ],
      "execution_count": 330,
      "outputs": [
        {
          "output_type": "stream",
          "text": [
            "Digite o valor do k : 3\n",
            "Digite o nome da distância que quer utilizar : euclidean\n",
            "Acuracia do modelo kNN:  88.69565217391305\n"
          ],
          "name": "stdout"
        }
      ]
    },
    {
      "cell_type": "markdown",
      "metadata": {
        "id": "TsCsytyiJb0P"
      },
      "source": [
        "### Importando bibliotecas para visualização dos dados"
      ]
    }
  ]
}